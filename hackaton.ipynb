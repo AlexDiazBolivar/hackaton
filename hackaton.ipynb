{
 "cells": [
  {
   "cell_type": "markdown",
   "metadata": {},
   "source": [
    "Access data here:https://drive.google.com/open?id=1fqhnETNivqsV73cV-DPQXIqWFiO12mhw\n",
    "\n",
    "Copy files in the directory with this notebook or change path in pd.read_pickle().\n",
    "\n",
    "To explore data, use cells below."
   ]
  },
  {
   "cell_type": "code",
   "execution_count": 9,
   "metadata": {},
   "outputs": [],
   "source": [
    "import pandas as pd\n",
    "import random\n",
    "import pickle\n",
    "import datetime"
   ]
  },
  {
   "cell_type": "code",
   "execution_count": 27,
   "metadata": {},
   "outputs": [],
   "source": [
    "def convert_to_date(date):\n",
    "    if len(date)==6:\n",
    "        date = pd.datetime.strptime(date[0:4]+\" \"+date[4:],\"%Y %m\")\n",
    "    else:\n",
    "        date = pd.datetime.strptime(date[0:4],\"%Y\")\n",
    "        \n",
    "    return date"
   ]
  },
  {
   "cell_type": "code",
   "execution_count": 28,
   "metadata": {},
   "outputs": [],
   "source": [
    "df1=pd.read_pickle(\"text.pkl\")\n",
    "df2=pd.read_pickle(\"Aircraft.pkl\")\n",
    "df3=pd.read_pickle(\"Time.pkl\")"
   ]
  },
  {
   "cell_type": "markdown",
   "metadata": {},
   "source": [
    "Light preprocessing: "
   ]
  },
  {
   "cell_type": "code",
   "execution_count": 29,
   "metadata": {},
   "outputs": [],
   "source": [
    "df3[\"Date\"]=df3[\"Date\"].apply(lambda date: convert_to_date(date))\n",
    "df=pd.merge(df1[[\"ITEM_ID\",\"Narrative\" ,\"Synopsis\"]], df3[[\"ITEM_ID\",\"Date\"]],on=\"ITEM_ID\")\n",
    "df=df.sort_values(\"Date\")\n",
    "# rapport plus complets et plus lisibles, moins d abbreviations)\n",
    "mask=df[\"Date\"]>pd.datetime(2009,1,1)\n",
    "df=df[mask].reset_index(drop=True)"
   ]
  },
  {
   "cell_type": "code",
   "execution_count": 30,
   "metadata": {},
   "outputs": [
    {
     "data": {
      "text/html": [
       "<div>\n",
       "<style scoped>\n",
       "    .dataframe tbody tr th:only-of-type {\n",
       "        vertical-align: middle;\n",
       "    }\n",
       "\n",
       "    .dataframe tbody tr th {\n",
       "        vertical-align: top;\n",
       "    }\n",
       "\n",
       "    .dataframe thead th {\n",
       "        text-align: right;\n",
       "    }\n",
       "</style>\n",
       "<table border=\"1\" class=\"dataframe\">\n",
       "  <thead>\n",
       "    <tr style=\"text-align: right;\">\n",
       "      <th></th>\n",
       "      <th>ITEM_ID</th>\n",
       "      <th>Narrative</th>\n",
       "      <th>Synopsis</th>\n",
       "      <th>Date</th>\n",
       "    </tr>\n",
       "  </thead>\n",
       "  <tbody>\n",
       "    <tr>\n",
       "      <th>0</th>\n",
       "      <td>824877</td>\n",
       "      <td>While descending from a parachute drop at 14,0...</td>\n",
       "      <td>Flight crew of a turboprop powered parachute d...</td>\n",
       "      <td>2009-02-01</td>\n",
       "    </tr>\n",
       "    <tr>\n",
       "      <th>1</th>\n",
       "      <td>824882</td>\n",
       "      <td>This trip pairing had myself and the Captain g...</td>\n",
       "      <td>A319 First Officer reports that his airline's ...</td>\n",
       "      <td>2009-02-01</td>\n",
       "    </tr>\n",
       "    <tr>\n",
       "      <th>2</th>\n",
       "      <td>824829</td>\n",
       "      <td>On the ROYKO 3 RNAV arrival and arriving in Ch...</td>\n",
       "      <td>A CL65 on the ROYKO 3 RNAV to ORD  Runway 27 e...</td>\n",
       "      <td>2009-02-01</td>\n",
       "    </tr>\n",
       "    <tr>\n",
       "      <th>3</th>\n",
       "      <td>824865</td>\n",
       "      <td>We wrote up an MEL for the compass deviation c...</td>\n",
       "      <td>A Captain and First Officer of a CE-560XL repo...</td>\n",
       "      <td>2009-02-01</td>\n",
       "    </tr>\n",
       "    <tr>\n",
       "      <th>4</th>\n",
       "      <td>824822</td>\n",
       "      <td>Cleared for RIIVR2 arrival, ILS Runway 25L at ...</td>\n",
       "      <td>An FA2000 encountered a B757 wake vortex at ab...</td>\n",
       "      <td>2009-02-01</td>\n",
       "    </tr>\n",
       "  </tbody>\n",
       "</table>\n",
       "</div>"
      ],
      "text/plain": [
       "   ITEM_ID                                          Narrative  \\\n",
       "0   824877  While descending from a parachute drop at 14,0...   \n",
       "1   824882  This trip pairing had myself and the Captain g...   \n",
       "2   824829  On the ROYKO 3 RNAV arrival and arriving in Ch...   \n",
       "3   824865  We wrote up an MEL for the compass deviation c...   \n",
       "4   824822  Cleared for RIIVR2 arrival, ILS Runway 25L at ...   \n",
       "\n",
       "                                            Synopsis       Date  \n",
       "0  Flight crew of a turboprop powered parachute d... 2009-02-01  \n",
       "1  A319 First Officer reports that his airline's ... 2009-02-01  \n",
       "2  A CL65 on the ROYKO 3 RNAV to ORD  Runway 27 e... 2009-02-01  \n",
       "3  A Captain and First Officer of a CE-560XL repo... 2009-02-01  \n",
       "4  An FA2000 encountered a B757 wake vortex at ab... 2009-02-01  "
      ]
     },
     "execution_count": 30,
     "metadata": {},
     "output_type": "execute_result"
    }
   ],
   "source": [
    "df.head()"
   ]
  },
  {
   "cell_type": "code",
   "execution_count": 31,
   "metadata": {},
   "outputs": [],
   "source": [
    "def syno_mod(df,df2,it=None):\n",
    "    \"\"\"\n",
    "    returns model for one incident. \n",
    "    It it=None, then random row is choosen.\n",
    "    \"\"\"\n",
    "    \n",
    "    \n",
    "    if it is None:\n",
    "        sample_rows=random.sample(range(len(df)), 1)\n",
    "        it=df.loc[sample_rows,\"ITEM_ID\"].item()\n",
    "    print(\"item_id: %s\" %it)\n",
    "    print(\"\")\n",
    "    mask0=df2[\"ITEM_ID\"]==it\n",
    "    if len(df2[mask0]!=0):\n",
    "        nb_acft=max(df2.loc[mask0,\"ENUMERATOR\"])\n",
    "        acft_involved=df2.loc[mask0,\"Make Model Name\"].tolist()\n",
    "        \n",
    "        print(\"nb acft involved: %s\"%nb_acft)\n",
    "        print(\"Acft involved: %s\"%acft_involved)\n",
    "  "
   ]
  },
  {
   "cell_type": "code",
   "execution_count": 32,
   "metadata": {
    "scrolled": true
   },
   "outputs": [
    {
     "name": "stdout",
     "output_type": "stream",
     "text": [
      "item_id: 966497\n",
      "\n",
      "nb acft involved: 2\n",
      "Acft involved: ['B737-700', 'B737 Undifferentiated or Other Model']\n"
     ]
    }
   ],
   "source": [
    "syno_mod(df,df2)"
   ]
  },
  {
   "cell_type": "markdown",
   "metadata": {},
   "source": [
    "\n",
    "Goal of this hackaton is to create a NER algo able to recognize aircraft occurences in a document.\n",
    "\n",
    "The main challenge is that there is no labelled data. Different teams NER performance will be compared on a labelled dataset.\n",
    "\n",
    "Good luck!"
   ]
  }
 ],
 "metadata": {
  "kernelspec": {
   "display_name": "Python 3",
   "language": "python",
   "name": "python3"
  },
  "language_info": {
   "codemirror_mode": {
    "name": "ipython",
    "version": 3
   },
   "file_extension": ".py",
   "mimetype": "text/x-python",
   "name": "python",
   "nbconvert_exporter": "python",
   "pygments_lexer": "ipython3",
   "version": "3.7.3"
  }
 },
 "nbformat": 4,
 "nbformat_minor": 2
}
